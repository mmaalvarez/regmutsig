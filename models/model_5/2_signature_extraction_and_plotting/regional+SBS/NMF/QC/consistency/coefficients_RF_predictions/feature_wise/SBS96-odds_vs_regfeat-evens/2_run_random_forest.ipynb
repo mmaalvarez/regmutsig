{
 "cells": [
  {
   "cell_type": "code",
   "execution_count": 38,
   "id": "2b4bf814",
   "metadata": {},
   "outputs": [],
   "source": [
    "import sys\n",
    "import argparse\n",
    "import os\n",
    "import pandas as pd\n",
    "from sklearn.linear_model import LinearRegression\n",
    "from sklearn.metrics import r2_score\n",
    "\n",
    "parser = argparse.ArgumentParser()\n",
    "parser.add_argument('-i', '--input_dir_path', type=str)\n",
    "parser.add_argument('--predictor', type=str)\n",
    "parser.add_argument('--topredict', type=str)\n",
    "\n",
    "# if interactive, pass some values manually\n",
    "if 'ipykernel' in sys.modules:\n",
    "    args = parser.parse_args(['-i', '/home/jovyan/fsupek_data/users/malvarez/projects/RepDefSig/models/model_4/2_signature_extraction_and_plotting/regional+SBS/NMF/QC/consistency/coefficients_RF_predictions/rf_inputs/', \n",
    "                              '--predictor', '1st_half__regional_feature__original', \n",
    "                              '--topredict', '1st_half__regional_feature__resampled'])\n",
    "else:\n",
    "    args = parser.parse_args()\n",
    "    \n",
    "input_dir_path, predictor, topredict = args.input_dir_path, args.predictor, args.topredict\n",
    "\n",
    "## load data\n",
    "predictor_coeff = pd.read_csv(f'{input_dir_path}/predictor-{predictor}___topredict-{topredict}/predictor.tsv', sep=\"\\t\").drop(['id'], axis=1).fillna(0)\n",
    "topredict_coeff = pd.read_csv(f'{input_dir_path}/predictor-{predictor}___topredict-{topredict}/topredict.tsv', sep=\"\\t\").drop(['id'], axis=1).fillna(0)\n",
    "\n",
    "## fit model\n",
    "model = LinearRegression()\n",
    "\n",
    "model.fit(predictor_coeff, topredict_coeff)\n",
    "\n",
    "## calculate R2\n",
    "prediction = model.predict(predictor_coeff)\n",
    "\n",
    "R2 = r2_score(topredict_coeff, prediction)\n",
    "\n",
    "## print\n",
    "res = pd.DataFrame({'predictor': [predictor],\n",
    "                    'topredict': [topredict],\n",
    "                    'R2': [R2]})\n",
    "\n",
    "res.to_csv(f'res__predictor-{predictor}__topredict-{topredict}.tsv', header=True, sep='\\t', index=False)"
   ]
  }
 ],
 "metadata": {
  "jupytext": {
   "formats": "ipynb,py"
  },
  "kernelspec": {
   "display_name": "Python 3",
   "language": "python",
   "name": "python3"
  },
  "language_info": {
   "codemirror_mode": {
    "name": "ipython",
    "version": 3
   },
   "file_extension": ".py",
   "mimetype": "text/x-python",
   "name": "python",
   "nbconvert_exporter": "python",
   "pygments_lexer": "ipython3",
   "version": "3.7.6"
  }
 },
 "nbformat": 4,
 "nbformat_minor": 5
}
